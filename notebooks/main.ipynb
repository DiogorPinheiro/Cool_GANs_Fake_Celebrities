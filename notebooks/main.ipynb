{
 "cells": [
  {
   "cell_type": "markdown",
   "metadata": {},
   "source": [
    "# DCGAN"
   ]
  },
  {
   "cell_type": "markdown",
   "metadata": {},
   "source": [
    "## Imports"
   ]
  },
  {
   "cell_type": "code",
   "execution_count": 40,
   "metadata": {},
   "outputs": [],
   "source": [
    "from tensorflow.keras.datasets import mnist\n",
    "import cv2\n",
    "from datetime import datetime\n",
    "import yaml\n",
    "import numpy as np\n",
    "import matplotlib.pyplot as plt\n",
    "from tensorflow import keras\n",
    "import tensorflow as tf\n",
    "from tensorflow.keras import layers\n",
    "import os\n",
    "from PIL import Image\n",
    "\n",
    "os.environ['TFF_CPP_MIN_LOG_LEVEL'] = '2'  # minimize TF annoying messages"
   ]
  },
  {
   "cell_type": "markdown",
   "metadata": {},
   "source": [
    "Show TF version (2.4.0 and 2.4.1 are almost the same)"
   ]
  },
  {
   "cell_type": "code",
   "execution_count": 2,
   "metadata": {},
   "outputs": [
    {
     "name": "stdout",
     "output_type": "stream",
     "text": [
      "2.4.1\n",
      "GPUs used: []\n"
     ]
    }
   ],
   "source": [
    "print(tf.__version__)\n",
    "print(f\"GPUs used: {tf.config.list_physical_devices('GPU')}\")"
   ]
  },
  {
   "cell_type": "markdown",
   "metadata": {},
   "source": [
    "## Data pipeline"
   ]
  },
  {
   "cell_type": "code",
   "execution_count": 30,
   "metadata": {},
   "outputs": [],
   "source": [
    "def data_pipeline_load(dataset_name, **kwargs):\n",
    "    \"\"\" Create optimized data loading pipeline for training.\n",
    "    Adapted from: https://cs230.stanford.edu/blog/datapipeline/,\n",
    "    https://www.tensorflow.org/tutorials/load_data/images#standardize_the_data\n",
    "    \n",
    "    Parameters\n",
    "    ----------\n",
    "    dataset_name : str\n",
    "        Name of dataset, either mnist or faces.\n",
    "    kwargs : dict\n",
    "        Must include resize_to for both nist and faces. Must include data_directory for faces.\n",
    "        If resize_to is None, the images keep their original shapes.\n",
    "    \n",
    "    Returns\n",
    "    -------\n",
    "    dataset : tf.data.Dataset\n",
    "        Dataset object.\n",
    "    dataset_size : int\n",
    "        Number of instances in dataset. For shuffling later.\n",
    "    \n",
    "    Raises\n",
    "    ------\n",
    "    None\n",
    "    \n",
    "    Notes\n",
    "    -----\n",
    "    Dataset is not pre-processed, not shuffled, not batched and not pre-fetched yet.\n",
    "    \"\"\"\n",
    "    resize_to = kwargs[\"resize_to\"]\n",
    "    \n",
    "    if dataset_name == \"mnist\":\n",
    "        dataset, dataset_size, img_original_shape = data_pipeline_load_mnist()\n",
    "    elif dataset_name == \"faces\":\n",
    "        data_directory= kwargs[\"data_directory\"]\n",
    "        dataset, dataset_size, img_original_shape = data_pipeline_load_faces(data_directory)\n",
    "    \n",
    "    resize_to = img_original_shape if resize_to is None else resize_to\n",
    "    \n",
    "    dataset = data_pipeline_pre_process(dataset, resize_to)\n",
    "    \n",
    "    print(f\"loaded and pre-processed: {dataset_name}, size: {dataset_size}\")\n",
    "    \n",
    "    return dataset, dataset_size\n",
    "\n",
    "def data_pipeline_pre_process(dataset, resize_to):\n",
    "    \"\"\" Create optimized data pre-processing pipeline for training.\n",
    "    Adapted from: https://cs230.stanford.edu/blog/datapipeline/,\n",
    "    https://www.tensorflow.org/tutorials/load_data/images#standardize_the_data\n",
    "    \n",
    "    Parameters\n",
    "    ----------\n",
    "    dataset_name : str\n",
    "        Name of dataset, either mnist or faces.\n",
    "    resize_to : tuple\n",
    "        Resize to (height, width).\n",
    "    \n",
    "    Returns\n",
    "    -------\n",
    "    dataset : tf.data.Dataset\n",
    "        Dataset object.\n",
    "    \n",
    "    Raises\n",
    "    ------\n",
    "    None\n",
    "    \n",
    "    Notes\n",
    "    -----\n",
    "    Dataset is pre-processed - standardized to -1.0 - 1.0 and resized.\n",
    "    But not shuffled, not batched and not pre-fetched yet.\n",
    "    \"\"\"\n",
    "    normalization_layer = tf.keras.layers.experimental.preprocessing.Rescaling(1./127.5, offset=-1)\n",
    "    \n",
    "    # automatically finds good allocation of CPU budget\n",
    "    dataset = dataset.map(normalization_layer, num_parallel_calls=tf.data.experimental.AUTOTUNE)\n",
    "    \n",
    "    \n",
    "    # automatically finds good allocation of CPU budget\n",
    "    dataset = dataset.map(lambda im: resize_image(im, resize_to), \n",
    "                          num_parallel_calls=tf.data.experimental.AUTOTUNE)\n",
    "    \n",
    "    return dataset\n",
    "\n",
    "def data_pipeline_pre_train(dataset, dataset_size, batch_size):\n",
    "    \"\"\" Create optimized pre-training data pipeline. Shuffle, batch, and pre-fetch dataset.\n",
    "    Adapted from: https://cs230.stanford.edu/blog/datapipeline/,\n",
    "    https://www.tensorflow.org/tutorials/load_data/images#standardize_the_data\n",
    "    \n",
    "    Parameters\n",
    "    ----------\n",
    "    dataset : tf.data.Dataset\n",
    "        Dataset object.\n",
    "    dataset_size : int\n",
    "        Number of instances in dataset. For shuffling.\n",
    "    batch_size : int \n",
    "        Batch size.\n",
    "    \n",
    "    Returns\n",
    "    -------\n",
    "    dataset : tensorflow.data.Dataset\n",
    "        Dataset object.\n",
    "    \n",
    "    Raises\n",
    "    ------\n",
    "    None\n",
    "    \n",
    "    Notes\n",
    "    -----\n",
    "    Dataset is now pre-processed, shuffled, batched and pre-fetched yet.\n",
    "    buffer_size (dataset_size) >= batch_size to get an uniform shuffle, right? idk\n",
    "    \"\"\"\n",
    "    dataset = dataset.shuffle(dataset_size).batch(batch_size)\n",
    "    dataset = dataset.prefetch(tf.data.experimental.AUTOTUNE)\n",
    "    \n",
    "    return dataset\n",
    "\n",
    "\n",
    "def resize_image(image, resize_to):\n",
    "    \"\"\" Resize image.\n",
    "    \n",
    "    Parameters\n",
    "    ----------\n",
    "    image : tensorflow.Tensor\n",
    "        Image object.\n",
    "    resize_to : tuple\n",
    "        Resize to (height, width).\n",
    "    \n",
    "    Returns\n",
    "    -------\n",
    "    resized_image : tensorflow.Tensor\n",
    "        Resize image object.\n",
    "    \n",
    "    Raises\n",
    "    ------\n",
    "    None\n",
    "    \n",
    "    Notes\n",
    "    -----\n",
    "    None\n",
    "    \"\"\"\n",
    "    resized_image = tf.image.resize(image, [resize_to[0], resize_to[1]])\n",
    "    \n",
    "    return resized_image\n",
    "\n",
    "\n",
    "def data_pipeline_load_mnist():\n",
    "    \"\"\" MNIST loading pipeline.\n",
    "    \n",
    "    Parameters\n",
    "    ----------\n",
    "    None\n",
    "    \n",
    "    Returns\n",
    "    -------\n",
    "    dataset : tf.data.Dataset\n",
    "        Dataset object.\n",
    "    dataset_size : int\n",
    "        Number of instances in dataset. For shuffling.\n",
    "    \n",
    "    Raises\n",
    "    ------\n",
    "    None\n",
    "    \n",
    "    Notes\n",
    "    -----\n",
    "    None\n",
    "    \"\"\"\n",
    "    (x_train, y_train), (_, _) = mnist.load_data()\n",
    "    \n",
    "    img_original_shape = (28, 28)\n",
    "    \n",
    "    x_train = x_train.reshape(x_train.shape[0], 28, 28, 1).astype('float32')\n",
    "    \n",
    "    dataset = tf.data.Dataset.from_tensor_slices(x_train)\n",
    "    \n",
    "    # shuffle here since more difficult later\n",
    "    dataset_size = len(x_train)\n",
    "    \n",
    "    return dataset, dataset_size, img_original_shape\n",
    "\n",
    "def get_faces_paths(data_directory):\n",
    "    \"\"\" Get the paths to the faces images.\n",
    "    \n",
    "    Parameters\n",
    "    ----------\n",
    "    data_directory : str\n",
    "        Path to the faces images.\n",
    "    \n",
    "    Returns\n",
    "    -------\n",
    "    paths_faces : list\n",
    "        List of paths to all images.\n",
    "    \n",
    "    Raises\n",
    "    ------\n",
    "    None\n",
    "    \n",
    "    Notes\n",
    "    -----\n",
    "    None\n",
    "    \"\"\"\n",
    "    paths_faces = []\n",
    "        \n",
    "    for idx, filename in enumerate(os.listdir(data_directory)):\n",
    "        paths_face = os.path.join(data_directory, filename)\n",
    "        paths_faces.append(paths_face)\n",
    "    \n",
    "    return paths_faces\n",
    "\n",
    "def parse_function(filename):\n",
    "    \"\"\" Parse a filename and load the corresponding image. Used for faces.\n",
    "    \n",
    "    Parameters\n",
    "    ----------\n",
    "    filename : str\n",
    "        Path to the faces image.\n",
    "    \n",
    "    Returns\n",
    "    -------\n",
    "    image : tensorflow.Tensor\n",
    "        Image object.\n",
    "    \n",
    "    Raises\n",
    "    ------\n",
    "    None\n",
    "    \n",
    "    Notes\n",
    "    -----\n",
    "    None\n",
    "    \"\"\"\n",
    "    image_string = tf.io.read_file(filename)\n",
    "\n",
    "    #Don't use tf.image.decode_image, or the output shape will be undefined\n",
    "    # automatically finds good allocation of CPU budget\n",
    "    image = tf.image.decode_jpeg(image_string, channels=3)\n",
    "    \n",
    "    #This will convert to float values in [0, 1]\n",
    "    #image = tf.image.convert_image_dtype(image, tf.float32)\n",
    "\n",
    "    return image\n",
    "\n",
    "def data_pipeline_load_faces(data_directory):\n",
    "    \"\"\" Faces loading pipeline.\n",
    "    \n",
    "    Parameters\n",
    "    ----------\n",
    "    data_directory : str\n",
    "        Path to the faces images.\n",
    "    \n",
    "    Returns\n",
    "    -------\n",
    "    dataset : tf.data.Dataset\n",
    "        Dataset object.\n",
    "    dataset_size : int\n",
    "        Number of instances in dataset. For shuffling.\n",
    "    \n",
    "    Raises\n",
    "    ------\n",
    "    None\n",
    "    \n",
    "    Notes\n",
    "    -----\n",
    "    None\n",
    "    \"\"\"\n",
    "    filenames = get_faces_paths(data_directory)\n",
    "    dataset_size = len(filenames)\n",
    "    \n",
    "    img = cv2.imread(filenames[0])\n",
    "    img_original_shape = img.shape[:2]\n",
    "    \n",
    "    dataset = tf.data.Dataset.from_tensor_slices(filenames)\n",
    "    #dataset = dataset.shuffle(len(filenames))\n",
    "    dataset = dataset.map(parse_function, num_parallel_calls=tf.data.experimental.AUTOTUNE)\n",
    "    \n",
    "    return dataset, dataset_size, img_original_shape"
   ]
  },
  {
   "cell_type": "markdown",
   "metadata": {},
   "source": [
    "### Check datapipelines"
   ]
  },
  {
   "cell_type": "markdown",
   "metadata": {},
   "source": [
    "for faces. images should be resized to ```resize_to``` (if None, images keep their original shapes) and min-max should be -1.0 - 1.0."
   ]
  },
  {
   "cell_type": "code",
   "execution_count": 33,
   "metadata": {},
   "outputs": [
    {
     "name": "stderr",
     "output_type": "stream",
     "text": [
      "Clipping input data to the valid range for imshow with RGB data ([0..1] for floats or [0..255] for integers).\n"
     ]
    },
    {
     "name": "stdout",
     "output_type": "stream",
     "text": [
      "loaded and pre-processed: faces, size: 202599\n",
      "<ParallelMapDataset shapes: (32, 32, 3), types: tf.float32>\n"
     ]
    },
    {
     "data": {
      "image/png": "[encoded data removed]",
      "text/plain": [
       "<Figure size 432x288 with 1 Axes>"
      ]
     },
     "metadata": {
      "needs_background": "light"
     },
     "output_type": "display_data"
    },
    {
     "name": "stdout",
     "output_type": "stream",
     "text": [
      "(32, 32, 3)\n",
      "tf.Tensor(0.9904182, shape=(), dtype=float32)\n",
      "tf.Tensor(-1.0, shape=(), dtype=float32)\n"
     ]
    },
    {
     "name": "stderr",
     "output_type": "stream",
     "text": [
      "Clipping input data to the valid range for imshow with RGB data ([0..1] for floats or [0..255] for integers).\n"
     ]
    },
    {
     "data": {
      "image/png": "[encoded data removed]",
      "text/plain": [
       "<Figure size 432x288 with 1 Axes>"
      ]
     },
     "metadata": {
      "needs_background": "light"
     },
     "output_type": "display_data"
    },
    {
     "name": "stdout",
     "output_type": "stream",
     "text": [
      "(32, 32, 3)\n",
      "tf.Tensor(0.9100262, shape=(), dtype=float32)\n",
      "tf.Tensor(-0.9269991, shape=(), dtype=float32)\n"
     ]
    }
   ],
   "source": [
    "data_directory = os.path.join(\"../\", \"data\", \"archive\", \"img_align_celeba\", \"img_align_celeba\")\n",
    "# original shape = (218, 178, 3)\n",
    "resize_to = (32, 32)\n",
    "#resize_to = None\n",
    "kwargs = {\"data_directory\": data_directory, \"resize_to\": resize_to}\n",
    "dataset_name = \"faces\"\n",
    "batch_size = 128\n",
    "\n",
    "dataset, dataset_size = data_pipeline_load(dataset_name, **kwargs)\n",
    "\n",
    "print(dataset)\n",
    "\n",
    "# warning: Clipping input data to the valid range for imshow with RGB data ([0..1] for floats or [0..255] for integers).\n",
    "# eliminate by inverse pre-processing steps during visualization\n",
    "for image in dataset.take(2):\n",
    "    plt.imshow(image)\n",
    "    plt.show()\n",
    "    print(image.shape)\n",
    "    print(tf.reduce_max(image))\n",
    "    print(tf.reduce_min(image))\n",
    "    \n",
    "dataset = data_pipeline_pre_train(dataset, dataset_size, batch_size)"
   ]
  },
  {
   "cell_type": "markdown",
   "metadata": {},
   "source": [
    "for mnist. images should be resized to ```resize_to``` (if None, images keep their original shapes) and min-max should be -1.0 - 1.0."
   ]
  },
  {
   "cell_type": "code",
   "execution_count": 36,
   "metadata": {},
   "outputs": [
    {
     "name": "stdout",
     "output_type": "stream",
     "text": [
      "loaded and pre-processed: mnist, size: 60000\n",
      "<ParallelMapDataset shapes: (28, 28, 1), types: tf.float32>\n"
     ]
    },
    {
     "data": {
      "image/png": "[encoded data removed]",
      "text/plain": [
       "<Figure size 432x288 with 1 Axes>"
      ]
     },
     "metadata": {
      "needs_background": "light"
     },
     "output_type": "display_data"
    },
    {
     "name": "stdout",
     "output_type": "stream",
     "text": [
      "(28, 28, 1)\n",
      "tf.Tensor(1.0, shape=(), dtype=float32)\n",
      "tf.Tensor(-1.0, shape=(), dtype=float32)\n"
     ]
    },
    {
     "data": {
      "image/png": "[encoded data removed]",
      "text/plain": [
       "<Figure size 432x288 with 1 Axes>"
      ]
     },
     "metadata": {
      "needs_background": "light"
     },
     "output_type": "display_data"
    },
    {
     "name": "stdout",
     "output_type": "stream",
     "text": [
      "(28, 28, 1)\n",
      "tf.Tensor(1.0, shape=(), dtype=float32)\n",
      "tf.Tensor(-1.0, shape=(), dtype=float32)\n"
     ]
    }
   ],
   "source": [
    "# original shape = (28, 28, 1)\n",
    "resize_to = (32, 32)\n",
    "resize_to = None\n",
    "kwargs = {\"data_directory\": None, \"resize_to\": resize_to}\n",
    "dataset_name = \"mnist\"\n",
    "batch_size = 128\n",
    "\n",
    "dataset, dataset_size = data_pipeline_load(dataset_name, **kwargs)\n",
    "\n",
    "print(dataset)\n",
    "\n",
    "for image in dataset.take(2):\n",
    "    plt.imshow(image)\n",
    "    plt.show()\n",
    "    print(image.shape)\n",
    "    print(tf.reduce_max(image))\n",
    "    print(tf.reduce_min(image))\n",
    "    \n",
    "dataset = data_pipeline_pre_train(dataset, dataset_size, batch_size)"
   ]
  },
  {
   "cell_type": "markdown",
   "metadata": {},
   "source": [
    "## DCGAN model for MNIST"
   ]
  },
  {
   "cell_type": "code",
   "execution_count": 123,
   "metadata": {},
   "outputs": [],
   "source": [
    "class DCGAN(keras.Model):\n",
    "    def __init__(self, input_shape, name):\n",
    "        super(DCGAN, self).__init__(name=name)\n",
    "\n",
    "        self.make_generator(input_shape)\n",
    "\n",
    "    def make_generator(self, input_shape):\n",
    "        # take care of input z (!!)\n",
    "\n",
    "        # Functional API for more flexibility\n",
    "        inputs = keras.Input(shape=input_shape, name=\"generator_input\")\n",
    "        \n",
    "        # NOTE: Number of filters should be adapted to each dataset <- FIND WAY TO DO IT AUTOMATICALLY\n",
    "        # idea: define build_mnist_generator() and use that in if else\n",
    "        \n",
    "        # project `z` and reshape\n",
    "        self.z_proj = layers.Dense(7*7*256, use_bias=False, name=\"g_h0_lin\")(inputs)\n",
    "        self.h0 = layers.Reshape((7, 7, 256), name=\"g_h0\")(self.z_proj)\n",
    "        h0 = layers.BatchNormalization()(self.h0)\n",
    "        h0 = layers.LeakyReLU()(h0)\n",
    "        \n",
    "        # Note: None is the batch size\n",
    "        assert tuple(h0.shape) == (None, 7, 7, 256)\n",
    "        \n",
    "        # upsample 1\n",
    "        self.h1 = layers.Conv2DTranspose(128, (5, 5), strides=(1, 1), padding='same', use_bias=False, \n",
    "                                         name=\"g_h1\")(h0)\n",
    "        h1 = layers.BatchNormalization()(self.h1)\n",
    "        h1 = layers.LeakyReLU()(h1)\n",
    "        assert tuple(h1.shape) == (None, 7, 7, 128)\n",
    "        \n",
    "        # upsample 2\n",
    "        self.h2 = layers.Conv2DTranspose(64, (5, 5), strides=(2, 2), padding='same', use_bias=False,\n",
    "                                        name=\"g_h2\")(h1)\n",
    "        h2 = layers.BatchNormalization()(self.h2)\n",
    "        h2 = layers.LeakyReLU()(h2)\n",
    "        assert tuple(h2.shape) == (None, 14, 14, 64)\n",
    "\n",
    "        # upsample 3\n",
    "        self.h3 = layers.Conv2DTranspose(1, (5, 5), strides=(2, 2), padding='same', use_bias=False, \n",
    "                                         activation='tanh', name=\"g_h3\")(h2)\n",
    "        assert tuple(self.h3.shape) == (None, 28, 28, 1)\n",
    "        \n",
    "        self.generator = tf.keras.Model(inputs=inputs, outputs=self.h3, name=\"generator\")\n",
    "        \n",
    "        return self.generator\n",
    "\n",
    "    def make_discriminator(self, output_shape=(28, 28, 1)):\n",
    "        \n",
    "        outputs = keras.Input(shape=output_shape, name=\"discriminator_input\")\n",
    "        \n",
    "        h0 = layers.Conv2D(64, (5, 5), strides=(2, 2), padding='same',name=\"d_h0\")(outputs)\n",
    "        h0 = layers.LeakyReLU()(h0)\n",
    "        h0 = layers.Dropout(0.3)(h0)\n",
    "\n",
    "        h1 = layers.Conv2D(128, (5, 5), strides=(2, 2), padding='same', name=\"d_h1\")(h0)\n",
    "        h1 = layers.LeakyReLU()(h1)\n",
    "        h1 = layers.Dropout(0.3)(h1)\n",
    "\n",
    "        h2 = layers.Flatten(name=\"d_h2_lin\")(h1)\n",
    "        h2 = layers.Dense(1)(h2)\n",
    "        \n",
    "        self.discriminator = tf.keras.Model(inputs=outputs, outputs=h2, name=\"discriminator\")\n",
    "\n",
    "        return self.discriminator"
   ]
  },
  {
   "cell_type": "code",
   "execution_count": 124,
   "metadata": {},
   "outputs": [
    {
     "name": "stdout",
     "output_type": "stream",
     "text": [
      "tf.Tensor([[0.00090642]], shape=(1, 1), dtype=float32)\n"
     ]
    },
    {
     "data": {
      "image/png": "[encoded data removed]",
      "text/plain": [
       "<Figure size 432x288 with 1 Axes>"
      ]
     },
     "metadata": {
      "needs_background": "light"
     },
     "output_type": "display_data"
    }
   ],
   "source": [
    "input_shape = (100,)\n",
    "output_shape = (28, 28, 1)\n",
    "\n",
    "dcgan = DCGAN(input_shape=input_shape, name=\"my_dcgan\")\n",
    "\n",
    "generator = dcgan.make_generator(input_shape)\n",
    "\n",
    "noise = tf.random.normal([1, 100])\n",
    "generated_image = generator(noise, training=False)\n",
    "\n",
    "plt.imshow(generated_image[0, :, :, 0], cmap='gray')\n",
    "\n",
    "discriminator = dcgan.make_discriminator(output_shape)\n",
    "decision = discriminator(generated_image)\n",
    "print(decision)"
   ]
  },
  {
   "cell_type": "code",
   "execution_count": null,
   "metadata": {},
   "outputs": [],
   "source": []
  }
 ],
 "metadata": {
  "kernelspec": {
   "display_name": "dcgan",
   "language": "python",
   "name": "dcgan"
  },
  "language_info": {
   "codemirror_mode": {
    "name": "ipython",
    "version": 3
   },
   "file_extension": ".py",
   "mimetype": "text/x-python",
   "name": "python",
   "nbconvert_exporter": "python",
   "pygments_lexer": "ipython3",
   "version": "3.8.8"
  }
 },
 "nbformat": 4,
 "nbformat_minor": 5
}
