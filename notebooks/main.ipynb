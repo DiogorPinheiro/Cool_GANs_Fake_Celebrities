{
 "cells": [
  {
   "cell_type": "markdown",
   "metadata": {},
   "source": [
    "# DCGAN"
   ]
  },
  {
   "cell_type": "markdown",
   "metadata": {},
   "source": [
    "## Imports"
   ]
  },
  {
   "cell_type": "code",
   "execution_count": 1,
   "metadata": {},
   "outputs": [],
   "source": [
    "from tensorflow.keras.datasets import mnist\n",
    "import cv2\n",
    "from datetime import datetime\n",
    "import yaml\n",
    "import numpy as np\n",
    "import matplotlib.pyplot as plt\n",
    "from tensorflow import keras\n",
    "import tensorflow as tf\n",
    "from tensorflow.keras import layers\n",
    "import os\n",
    "from PIL import Image\n",
    "\n",
    "os.environ['TFF_CPP_MIN_LOG_LEVEL'] = '2'  # minimize TF annoying messages"
   ]
  },
  {
   "cell_type": "markdown",
   "metadata": {},
   "source": [
    "Show TF version (2.4.0 and 2.4.1 are almost the same)"
   ]
  },
  {
   "cell_type": "code",
   "execution_count": 2,
   "metadata": {},
   "outputs": [
    {
     "name": "stdout",
     "output_type": "stream",
     "text": [
      "2.4.1\n",
      "GPUs used: []\n"
     ]
    }
   ],
   "source": [
    "print(tf.__version__)\n",
    "print(f\"GPUs used: {tf.config.list_physical_devices('GPU')}\")"
   ]
  },
  {
   "cell_type": "markdown",
   "metadata": {},
   "source": [
    "## Data pipeline"
   ]
  },
  {
   "cell_type": "code",
   "execution_count": 30,
   "metadata": {},
   "outputs": [],
   "source": [
    "def data_pipeline_load(dataset_name, **kwargs):\n",
    "    \"\"\" Create optimized data loading pipeline for training.\n",
    "    Adapted from: https://cs230.stanford.edu/blog/datapipeline/,\n",
    "    https://www.tensorflow.org/tutorials/load_data/images#standardize_the_data\n",
    "    \n",
    "    Parameters\n",
    "    ----------\n",
    "    dataset_name : str\n",
    "        Name of dataset, either mnist or faces.\n",
    "    kwargs : dict\n",
    "        Must include resize_to for both nist and faces. Must include data_directory for faces.\n",
    "        If resize_to is None, the images keep their original shapes.\n",
    "    \n",
    "    Returns\n",
    "    -------\n",
    "    dataset : tf.data.Dataset\n",
    "        Dataset object.\n",
    "    dataset_size : int\n",
    "        Number of instances in dataset. For shuffling later.\n",
    "    \n",
    "    Raises\n",
    "    ------\n",
    "    None\n",
    "    \n",
    "    Notes\n",
    "    -----\n",
    "    Dataset is not pre-processed, not shuffled, not batched and not pre-fetched yet.\n",
    "    \"\"\"\n",
    "    resize_to = kwargs[\"resize_to\"]\n",
    "    \n",
    "    if dataset_name == \"mnist\":\n",
    "        dataset, dataset_size, img_original_shape = data_pipeline_load_mnist()\n",
    "    elif dataset_name == \"faces\":\n",
    "        data_directory= kwargs[\"data_directory\"]\n",
    "        dataset, dataset_size, img_original_shape = data_pipeline_load_faces(data_directory)\n",
    "    \n",
    "    resize_to = img_original_shape if resize_to is None else resize_to\n",
    "    \n",
    "    dataset = data_pipeline_pre_process(dataset, resize_to)\n",
    "    \n",
    "    print(f\"loaded and pre-processed: {dataset_name}, size: {dataset_size}\")\n",
    "    \n",
    "    return dataset, dataset_size\n",
    "\n",
    "def data_pipeline_pre_process(dataset, resize_to):\n",
    "    \"\"\" Create optimized data pre-processing pipeline for training.\n",
    "    Adapted from: https://cs230.stanford.edu/blog/datapipeline/,\n",
    "    https://www.tensorflow.org/tutorials/load_data/images#standardize_the_data\n",
    "    \n",
    "    Parameters\n",
    "    ----------\n",
    "    dataset_name : str\n",
    "        Name of dataset, either mnist or faces.\n",
    "    resize_to : tuple\n",
    "        Resize to (height, width).\n",
    "    \n",
    "    Returns\n",
    "    -------\n",
    "    dataset : tf.data.Dataset\n",
    "        Dataset object.\n",
    "    \n",
    "    Raises\n",
    "    ------\n",
    "    None\n",
    "    \n",
    "    Notes\n",
    "    -----\n",
    "    Dataset is pre-processed - standardized to -1.0 - 1.0 and resized.\n",
    "    But not shuffled, not batched and not pre-fetched yet.\n",
    "    \"\"\"\n",
    "    normalization_layer = tf.keras.layers.experimental.preprocessing.Rescaling(1./127.5, offset=-1)\n",
    "    \n",
    "    # automatically finds good allocation of CPU budget\n",
    "    dataset = dataset.map(normalization_layer, num_parallel_calls=tf.data.experimental.AUTOTUNE)\n",
    "    \n",
    "    \n",
    "    # automatically finds good allocation of CPU budget\n",
    "    dataset = dataset.map(lambda im: resize_image(im, resize_to), \n",
    "                          num_parallel_calls=tf.data.experimental.AUTOTUNE)\n",
    "    \n",
    "    return dataset\n",
    "\n",
    "def data_pipeline_pre_train(dataset, dataset_size, batch_size):\n",
    "    \"\"\" Create optimized pre-training data pipeline. Shuffle, batch, and pre-fetch dataset.\n",
    "    Adapted from: https://cs230.stanford.edu/blog/datapipeline/,\n",
    "    https://www.tensorflow.org/tutorials/load_data/images#standardize_the_data\n",
    "    \n",
    "    Parameters\n",
    "    ----------\n",
    "    dataset : tf.data.Dataset\n",
    "        Dataset object.\n",
    "    dataset_size : int\n",
    "        Number of instances in dataset. For shuffling.\n",
    "    batch_size : int \n",
    "        Batch size.\n",
    "    \n",
    "    Returns\n",
    "    -------\n",
    "    dataset : tensorflow.data.Dataset\n",
    "        Dataset object.\n",
    "    \n",
    "    Raises\n",
    "    ------\n",
    "    None\n",
    "    \n",
    "    Notes\n",
    "    -----\n",
    "    Dataset is now pre-processed, shuffled, batched and pre-fetched yet.\n",
    "    buffer_size (dataset_size) >= batch_size to get an uniform shuffle, right? idk\n",
    "    \"\"\"\n",
    "    dataset = dataset.shuffle(dataset_size).batch(batch_size)\n",
    "    dataset = dataset.prefetch(tf.data.experimental.AUTOTUNE)\n",
    "    \n",
    "    return dataset\n",
    "\n",
    "\n",
    "def resize_image(image, resize_to):\n",
    "    \"\"\" Resize image.\n",
    "    \n",
    "    Parameters\n",
    "    ----------\n",
    "    image : tensorflow.Tensor\n",
    "        Image object.\n",
    "    resize_to : tuple\n",
    "        Resize to (height, width).\n",
    "    \n",
    "    Returns\n",
    "    -------\n",
    "    resized_image : tensorflow.Tensor\n",
    "        Resize image object.\n",
    "    \n",
    "    Raises\n",
    "    ------\n",
    "    None\n",
    "    \n",
    "    Notes\n",
    "    -----\n",
    "    None\n",
    "    \"\"\"\n",
    "    resized_image = tf.image.resize(image, [resize_to[0], resize_to[1]])\n",
    "    \n",
    "    return resized_image\n",
    "\n",
    "\n",
    "def data_pipeline_load_mnist():\n",
    "    \"\"\" MNIST loading pipeline.\n",
    "    \n",
    "    Parameters\n",
    "    ----------\n",
    "    None\n",
    "    \n",
    "    Returns\n",
    "    -------\n",
    "    dataset : tf.data.Dataset\n",
    "        Dataset object.\n",
    "    dataset_size : int\n",
    "        Number of instances in dataset. For shuffling.\n",
    "    \n",
    "    Raises\n",
    "    ------\n",
    "    None\n",
    "    \n",
    "    Notes\n",
    "    -----\n",
    "    None\n",
    "    \"\"\"\n",
    "    (x_train, y_train), (_, _) = mnist.load_data()\n",
    "    \n",
    "    img_original_shape = (28, 28)\n",
    "    \n",
    "    x_train = x_train.reshape(x_train.shape[0], 28, 28, 1).astype('float32')\n",
    "    \n",
    "    dataset = tf.data.Dataset.from_tensor_slices(x_train)\n",
    "    \n",
    "    # shuffle here since more difficult later\n",
    "    dataset_size = len(x_train)\n",
    "    \n",
    "    return dataset, dataset_size, img_original_shape\n",
    "\n",
    "def get_faces_paths(data_directory):\n",
    "    \"\"\" Get the paths to the faces images.\n",
    "    \n",
    "    Parameters\n",
    "    ----------\n",
    "    data_directory : str\n",
    "        Path to the faces images.\n",
    "    \n",
    "    Returns\n",
    "    -------\n",
    "    paths_faces : list\n",
    "        List of paths to all images.\n",
    "    \n",
    "    Raises\n",
    "    ------\n",
    "    None\n",
    "    \n",
    "    Notes\n",
    "    -----\n",
    "    None\n",
    "    \"\"\"\n",
    "    paths_faces = []\n",
    "        \n",
    "    for idx, filename in enumerate(os.listdir(data_directory)):\n",
    "        paths_face = os.path.join(data_directory, filename)\n",
    "        paths_faces.append(paths_face)\n",
    "    \n",
    "    return paths_faces\n",
    "\n",
    "def parse_function(filename):\n",
    "    \"\"\" Parse a filename and load the corresponding image. Used for faces.\n",
    "    \n",
    "    Parameters\n",
    "    ----------\n",
    "    filename : str\n",
    "        Path to the faces image.\n",
    "    \n",
    "    Returns\n",
    "    -------\n",
    "    image : tensorflow.Tensor\n",
    "        Image object.\n",
    "    \n",
    "    Raises\n",
    "    ------\n",
    "    None\n",
    "    \n",
    "    Notes\n",
    "    -----\n",
    "    None\n",
    "    \"\"\"\n",
    "    image_string = tf.io.read_file(filename)\n",
    "\n",
    "    #Don't use tf.image.decode_image, or the output shape will be undefined\n",
    "    # automatically finds good allocation of CPU budget\n",
    "    image = tf.image.decode_jpeg(image_string, channels=3)\n",
    "    \n",
    "    #This will convert to float values in [0, 1]\n",
    "    #image = tf.image.convert_image_dtype(image, tf.float32)\n",
    "\n",
    "    return image\n",
    "\n",
    "def data_pipeline_load_faces(data_directory):\n",
    "    \"\"\" Faces loading pipeline.\n",
    "    \n",
    "    Parameters\n",
    "    ----------\n",
    "    data_directory : str\n",
    "        Path to the faces images.\n",
    "    \n",
    "    Returns\n",
    "    -------\n",
    "    dataset : tf.data.Dataset\n",
    "        Dataset object.\n",
    "    dataset_size : int\n",
    "        Number of instances in dataset. For shuffling.\n",
    "    \n",
    "    Raises\n",
    "    ------\n",
    "    None\n",
    "    \n",
    "    Notes\n",
    "    -----\n",
    "    None\n",
    "    \"\"\"\n",
    "    filenames = get_faces_paths(data_directory)\n",
    "    dataset_size = len(filenames)\n",
    "    \n",
    "    img = cv2.imread(filenames[0])\n",
    "    img_original_shape = img.shape[:2]\n",
    "    \n",
    "    dataset = tf.data.Dataset.from_tensor_slices(filenames)\n",
    "    #dataset = dataset.shuffle(len(filenames))\n",
    "    dataset = dataset.map(parse_function, num_parallel_calls=tf.data.experimental.AUTOTUNE)\n",
    "    \n",
    "    return dataset, dataset_size, img_original_shape"
   ]
  },
  {
   "cell_type": "markdown",
   "metadata": {},
   "source": [
    "### Check datapipelines"
   ]
  },
  {
   "cell_type": "markdown",
   "metadata": {},
   "source": [
    "for faces. images should be resized to ```resize_to``` (if None, images keep their original shapes) and min-max should be -1.0 - 1.0."
   ]
  },
  {
   "cell_type": "code",
   "execution_count": 33,
   "metadata": {},
   "outputs": [
    {
     "name": "stderr",
     "output_type": "stream",
     "text": [
      "Clipping input data to the valid range for imshow with RGB data ([0..1] for floats or [0..255] for integers).\n"
     ]
    },
    {
     "name": "stdout",
     "output_type": "stream",
     "text": [
      "loaded and pre-processed: faces, size: 202599\n",
      "<ParallelMapDataset shapes: (32, 32, 3), types: tf.float32>\n"
     ]
    },
    {
     "data": {
      "image/png": "[encoded data removed]",
      "text/plain": [
       "<Figure size 432x288 with 1 Axes>"
      ]
     },
     "metadata": {
      "needs_background": "light"
     },
     "output_type": "display_data"
    },
    {
     "name": "stdout",
     "output_type": "stream",
     "text": [
      "(32, 32, 3)\n",
      "tf.Tensor(0.9904182, shape=(), dtype=float32)\n",
      "tf.Tensor(-1.0, shape=(), dtype=float32)\n"
     ]
    },
    {
     "name": "stderr",
     "output_type": "stream",
     "text": [
      "Clipping input data to the valid range for imshow with RGB data ([0..1] for floats or [0..255] for integers).\n"
     ]
    },
    {
     "data": {
      "image/png": "[encoded data removed]",
      "text/plain": [
       "<Figure size 432x288 with 1 Axes>"
      ]
     },
     "metadata": {
      "needs_background": "light"
     },
     "output_type": "display_data"
    },
    {
     "name": "stdout",
     "output_type": "stream",
     "text": [
      "(32, 32, 3)\n",
      "tf.Tensor(0.9100262, shape=(), dtype=float32)\n",
      "tf.Tensor(-0.9269991, shape=(), dtype=float32)\n"
     ]
    }
   ],
   "source": [
    "data_directory = os.path.join(\"../\", \"data\", \"archive\", \"img_align_celeba\", \"img_align_celeba\")\n",
    "# original shape = (218, 178, 3)\n",
    "resize_to = (32, 32)\n",
    "#resize_to = None\n",
    "kwargs = {\"data_directory\": data_directory, \"resize_to\": resize_to}\n",
    "dataset_name = \"faces\"\n",
    "batch_size = 128\n",
    "\n",
    "dataset, dataset_size = data_pipeline_load(dataset_name, **kwargs)\n",
    "\n",
    "print(dataset)\n",
    "\n",
    "# warning: Clipping input data to the valid range for imshow with RGB data ([0..1] for floats or [0..255] for integers).\n",
    "# eliminate by inverse pre-processing steps during visualization\n",
    "for image in dataset.take(2):\n",
    "    plt.imshow(image)\n",
    "    plt.show()\n",
    "    print(image.shape)\n",
    "    print(tf.reduce_max(image))\n",
    "    print(tf.reduce_min(image))\n",
    "    \n",
    "dataset = data_pipeline_pre_train(dataset, dataset_size, batch_size)"
   ]
  },
  {
   "cell_type": "markdown",
   "metadata": {},
   "source": [
    "for mnist. images should be resized to ```resize_to``` (if None, images keep their original shapes) and min-max should be -1.0 - 1.0."
   ]
  },
  {
   "cell_type": "code",
   "execution_count": 36,
   "metadata": {},
   "outputs": [
    {
     "name": "stdout",
     "output_type": "stream",
     "text": [
      "loaded and pre-processed: mnist, size: 60000\n",
      "<ParallelMapDataset shapes: (28, 28, 1), types: tf.float32>\n"
     ]
    },
    {
     "data": {
      "image/png": "[encoded data removed]",
      "text/plain": [
       "<Figure size 432x288 with 1 Axes>"
      ]
     },
     "metadata": {
      "needs_background": "light"
     },
     "output_type": "display_data"
    },
    {
     "name": "stdout",
     "output_type": "stream",
     "text": [
      "(28, 28, 1)\n",
      "tf.Tensor(1.0, shape=(), dtype=float32)\n",
      "tf.Tensor(-1.0, shape=(), dtype=float32)\n"
     ]
    },
    {
     "data": {
      "image/png": "[encoded data removed]",
      "text/plain": [
       "<Figure size 432x288 with 1 Axes>"
      ]
     },
     "metadata": {
      "needs_background": "light"
     },
     "output_type": "display_data"
    },
    {
     "name": "stdout",
     "output_type": "stream",
     "text": [
      "(28, 28, 1)\n",
      "tf.Tensor(1.0, shape=(), dtype=float32)\n",
      "tf.Tensor(-1.0, shape=(), dtype=float32)\n"
     ]
    }
   ],
   "source": [
    "# original shape = (28, 28, 1)\n",
    "resize_to = (32, 32)\n",
    "resize_to = None\n",
    "kwargs = {\"data_directory\": None, \"resize_to\": resize_to}\n",
    "dataset_name = \"mnist\"\n",
    "batch_size = 128\n",
    "\n",
    "dataset, dataset_size = data_pipeline_load(dataset_name, **kwargs)\n",
    "\n",
    "print(dataset)\n",
    "\n",
    "for image in dataset.take(2):\n",
    "    plt.imshow(image)\n",
    "    plt.show()\n",
    "    print(image.shape)\n",
    "    print(tf.reduce_max(image))\n",
    "    print(tf.reduce_min(image))\n",
    "    \n",
    "dataset = data_pipeline_pre_train(dataset, dataset_size, batch_size)"
   ]
  },
  {
   "cell_type": "markdown",
   "metadata": {},
   "source": [
    "## DCGAN model for MNIST"
   ]
  },
  {
   "cell_type": "code",
   "execution_count": 12,
   "metadata": {},
   "outputs": [],
   "source": [
    "class DCGAN(keras.Model):\n",
    "    def __init__(self, input_shape, name):\n",
    "        super(DCGAN, self).__init__(name=name)\n",
    "\n",
    "        self.make_generator(input_shape)\n",
    "\n",
    "    def make_generator(self, input_shape):\n",
    "        # take care of input z (!!)\n",
    "\n",
    "        # Functional API for more flexibility\n",
    "        inputs = keras.Input(shape=input_shape, name=\"generator_input\")\n",
    "        \n",
    "        # NOTE: Number of filters should be adapted to each dataset <- FIND WAY TO DO IT AUTOMATICALLY\n",
    "        # idea: define build_mnist_generator() and use that in if else\n",
    "        \n",
    "        # project `z` and reshape\n",
    "        self.z_proj = layers.Dense(7*7*256, use_bias=False, name=\"g_h0_lin\")(inputs)\n",
    "        self.h0 = layers.Reshape((7, 7, 256), name=\"g_h0\")(self.z_proj)\n",
    "        h0 = layers.BatchNormalization()(self.h0)\n",
    "        h0 = layers.LeakyReLU()(h0)\n",
    "        \n",
    "        # Note: None is the batch size\n",
    "        assert tuple(h0.shape) == (None, 7, 7, 256)\n",
    "        \n",
    "        # upsample 1\n",
    "        self.h1 = layers.Conv2DTranspose(128, (5, 5), strides=(1, 1), padding='same', use_bias=False, \n",
    "                                         name=\"g_h1\")(h0)\n",
    "        h1 = layers.BatchNormalization()(self.h1)\n",
    "        h1 = layers.LeakyReLU()(h1)\n",
    "        assert tuple(h1.shape) == (None, 7, 7, 128)\n",
    "        \n",
    "        # upsample 2\n",
    "        self.h2 = layers.Conv2DTranspose(64, (5, 5), strides=(2, 2), padding='same', use_bias=False,\n",
    "                                        name=\"g_h2\")(h1)\n",
    "        h2 = layers.BatchNormalization()(self.h2)\n",
    "        h2 = layers.LeakyReLU()(h2)\n",
    "        assert tuple(h2.shape) == (None, 14, 14, 64)\n",
    "\n",
    "        # upsample 3\n",
    "        self.h3 = layers.Conv2DTranspose(1, (5, 5), strides=(2, 2), padding='same', use_bias=False, \n",
    "                                         activation='tanh', name=\"g_h3\")(h2)\n",
    "        assert tuple(self.h3.shape) == (None, 28, 28, 1)\n",
    "        \n",
    "        self.generator = tf.keras.Model(inputs=inputs, outputs=self.h3, name=\"generator\")\n",
    "        \n",
    "        return self.generator\n",
    "\n",
    "    def make_discriminator(self, output_shape=(28, 28, 1)):\n",
    "        \n",
    "        outputs = keras.Input(shape=output_shape, name=\"discriminator_input\")\n",
    "        \n",
    "        h0 = layers.Conv2D(64, (5, 5), strides=(2, 2), padding='same',name=\"d_h0\")(outputs)\n",
    "        h0 = layers.LeakyReLU()(h0)\n",
    "        h0 = layers.Dropout(0.3)(h0)\n",
    "\n",
    "        h1 = layers.Conv2D(128, (5, 5), strides=(2, 2), padding='same', name=\"d_h1\")(h0)\n",
    "        h1 = layers.LeakyReLU()(h1)\n",
    "        h1 = layers.Dropout(0.3)(h1)\n",
    "\n",
    "        h2 = layers.Flatten(name=\"d_h2_lin\")(h1)\n",
    "        h2 = layers.Dense(1)(h2)\n",
    "        \n",
    "        self.discriminator = tf.keras.Model(inputs=outputs, outputs=h2, name=\"discriminator\")\n",
    "\n",
    "        return self.discriminator\n",
    "    \n",
    "    def evaluate_loss(self,real_images,fake_images,type):\n",
    "        '''\n",
    "                Generator -> Goal is to generate the \"realest\" fake images, so the loss is only measured taking those in consideration.\n",
    "\n",
    "                Discriminator -> We want the output to be 1 for real images and 0 for fake images. \n",
    "                Here, the total loss will be aggregated loss for real and fake images (which is obvious because we're trying \n",
    "                to see how these compare)\n",
    "\n",
    "        '''\n",
    "        f_loss = keras.losses.binary_crossentropy(from_logits=True)\n",
    "        if type == 'generator':\n",
    "            return f_loss(tf.ones_like(fake_images),fake_images).numpy()    # transform fake images array into an array of ones\n",
    "        elif type == 'discriminator':\n",
    "            return f_loss(tf.ones_like(real_images),real_images).numpy() + f_loss(tf.zeros_like(fake_images),fake_images).numpy()\n",
    "\n",
    "    def optimize(learning_rate=0.0002,beta1=0.5):\n",
    "        '''\n",
    "            According to the original DCGAN paper(*): \n",
    "                1) Learning rate - \" While previous GAN work has used momentum to accelerate training, \n",
    "            we used the Adam optimizer (Kingma & Ba, 2014) with tuned hyperparameters. We found the suggested learning \n",
    "            rate of 0.001, to be too high, using 0.0002 instead.\"\n",
    "\n",
    "                2) Momentum (beta1) - \"Additionally, we found leaving the momentum term β1 at the suggested value of 0.9 resulted\n",
    "                 in training oscillation and instability while reducing it to 0.5 helped stabilize training.\n",
    "\n",
    "\n",
    "            (*) https://arxiv.org/pdf/1511.06434.pdf\n",
    "\n",
    "\n",
    "            Output:\n",
    "                Optimizer for both generator and discriminator model\n",
    "        '''\n",
    "        return keras.optimizers.Adam(learning_rate,beta_1=beta1), keras.optimizers.Adam(learning_rate,beta_1=beta1)\n"
   ]
  },
  {
   "cell_type": "code",
   "execution_count": 13,
   "metadata": {},
   "outputs": [
    {
     "output_type": "stream",
     "name": "stdout",
     "text": [
      "tf.Tensor([[-0.00108084]], shape=(1, 1), dtype=float32)\n"
     ]
    },
    {
     "output_type": "display_data",
     "data": {
      "text/plain": "<Figure size 432x288 with 1 Axes>",
      "image/svg+xml": "<?xml version=\"1.0\" encoding=\"utf-8\" standalone=\"no\"?>\n<!DOCTYPE svg PUBLIC \"-//W3C//DTD SVG 1.1//EN\"\n  \"http://www.w3.org/Graphics/SVG/1.1/DTD/svg11.dtd\">\n<!-- Created with matplotlib (https://matplotlib.org/) -->\n<svg height=\"248.518125pt\" version=\"1.1\" viewBox=\"0 0 251.565 248.518125\" width=\"251.565pt\" xmlns=\"http://www.w3.org/2000/svg\" xmlns:xlink=\"http://www.w3.org/1999/xlink\">\n <defs>\n  <style type=\"text/css\">\n*{stroke-linecap:butt;stroke-linejoin:round;}\n  </style>\n </defs>\n <g id=\"figure_1\">\n  <g id=\"patch_1\">\n   <path d=\"M 0 248.518125 \nL 251.565 248.518125 \nL 251.565 0 \nL 0 0 \nz\n\" style=\"fill:none;\"/>\n  </g>\n  <g id=\"axes_1\">\n   <g id=\"patch_2\">\n    <path d=\"M 26.925 224.64 \nL 244.365 224.64 \nL 244.365 7.2 \nL 26.925 7.2 \nz\n\" style=\"fill:#ffffff;\"/>\n   </g>\n   <g clip-path=\"url(#p222d2a8cc2)\">\n    <image height=\"218\" id=\"image2d5b456e2d\" transform=\"scale(1 -1)translate(0 -218)\" width=\"218\" x=\"26.925\" xlink:href=\"data:image/png;base64,\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\" y=\"-6.64\"/>\n   </g>\n   <g id=\"matplotlib.axis_1\">\n    <g id=\"xtick_1\">\n     <g id=\"line2d_1\">\n      <defs>\n       <path d=\"M 0 0 \nL 0 3.5 \n\" id=\"mdba741b549\" style=\"stroke:#000000;stroke-width:0.8;\"/>\n      </defs>\n      <g>\n       <use style=\"stroke:#000000;stroke-width:0.8;\" x=\"30.807857\" xlink:href=\"#mdba741b549\" y=\"224.64\"/>\n      </g>\n     </g>\n     <g id=\"text_1\">\n      <!-- 0 -->\n      <defs>\n       <path d=\"M 31.78125 66.40625 \nQ 24.171875 66.40625 20.328125 58.90625 \nQ 16.5 51.421875 16.5 36.375 \nQ 16.5 21.390625 20.328125 13.890625 \nQ 24.171875 6.390625 31.78125 6.390625 \nQ 39.453125 6.390625 43.28125 13.890625 \nQ 47.125 21.390625 47.125 36.375 \nQ 47.125 51.421875 43.28125 58.90625 \nQ 39.453125 66.40625 31.78125 66.40625 \nz\nM 31.78125 74.21875 \nQ 44.046875 74.21875 50.515625 64.515625 \nQ 56.984375 54.828125 56.984375 36.375 \nQ 56.984375 17.96875 50.515625 8.265625 \nQ 44.046875 -1.421875 31.78125 -1.421875 \nQ 19.53125 -1.421875 13.0625 8.265625 \nQ 6.59375 17.96875 6.59375 36.375 \nQ 6.59375 54.828125 13.0625 64.515625 \nQ 19.53125 74.21875 31.78125 74.21875 \nz\n\" id=\"DejaVuSans-48\"/>\n      </defs>\n      <g transform=\"translate(27.626607 239.238437)scale(0.1 -0.1)\">\n       <use xlink:href=\"#DejaVuSans-48\"/>\n      </g>\n     </g>\n    </g>\n    <g id=\"xtick_2\">\n     <g id=\"line2d_2\">\n      <g>\n       <use style=\"stroke:#000000;stroke-width:0.8;\" x=\"69.636429\" xlink:href=\"#mdba741b549\" y=\"224.64\"/>\n      </g>\n     </g>\n     <g id=\"text_2\">\n      <!-- 5 -->\n      <defs>\n       <path d=\"M 10.796875 72.90625 \nL 49.515625 72.90625 \nL 49.515625 64.59375 \nL 19.828125 64.59375 \nL 19.828125 46.734375 \nQ 21.96875 47.46875 24.109375 47.828125 \nQ 26.265625 48.1875 28.421875 48.1875 \nQ 40.625 48.1875 47.75 41.5 \nQ 54.890625 34.8125 54.890625 23.390625 \nQ 54.890625 11.625 47.5625 5.09375 \nQ 40.234375 -1.421875 26.90625 -1.421875 \nQ 22.3125 -1.421875 17.546875 -0.640625 \nQ 12.796875 0.140625 7.71875 1.703125 \nL 7.71875 11.625 \nQ 12.109375 9.234375 16.796875 8.0625 \nQ 21.484375 6.890625 26.703125 6.890625 \nQ 35.15625 6.890625 40.078125 11.328125 \nQ 45.015625 15.765625 45.015625 23.390625 \nQ 45.015625 31 40.078125 35.4375 \nQ 35.15625 39.890625 26.703125 39.890625 \nQ 22.75 39.890625 18.8125 39.015625 \nQ 14.890625 38.140625 10.796875 36.28125 \nz\n\" id=\"DejaVuSans-53\"/>\n      </defs>\n      <g transform=\"translate(66.455179 239.238437)scale(0.1 -0.1)\">\n       <use xlink:href=\"#DejaVuSans-53\"/>\n      </g>\n     </g>\n    </g>\n    <g id=\"xtick_3\">\n     <g id=\"line2d_3\">\n      <g>\n       <use style=\"stroke:#000000;stroke-width:0.8;\" x=\"108.465\" xlink:href=\"#mdba741b549\" y=\"224.64\"/>\n      </g>\n     </g>\n     <g id=\"text_3\">\n      <!-- 10 -->\n      <defs>\n       <path d=\"M 12.40625 8.296875 \nL 28.515625 8.296875 \nL 28.515625 63.921875 \nL 10.984375 60.40625 \nL 10.984375 69.390625 \nL 28.421875 72.90625 \nL 38.28125 72.90625 \nL 38.28125 8.296875 \nL 54.390625 8.296875 \nL 54.390625 0 \nL 12.40625 0 \nz\n\" id=\"DejaVuSans-49\"/>\n      </defs>\n      <g transform=\"translate(102.1025 239.238437)scale(0.1 -0.1)\">\n       <use xlink:href=\"#DejaVuSans-49\"/>\n       <use x=\"63.623047\" xlink:href=\"#DejaVuSans-48\"/>\n      </g>\n     </g>\n    </g>\n    <g id=\"xtick_4\">\n     <g id=\"line2d_4\">\n      <g>\n       <use style=\"stroke:#000000;stroke-width:0.8;\" x=\"147.293571\" xlink:href=\"#mdba741b549\" y=\"224.64\"/>\n      </g>\n     </g>\n     <g id=\"text_4\">\n      <!-- 15 -->\n      <g transform=\"translate(140.931071 239.238437)scale(0.1 -0.1)\">\n       <use xlink:href=\"#DejaVuSans-49\"/>\n       <use x=\"63.623047\" xlink:href=\"#DejaVuSans-53\"/>\n      </g>\n     </g>\n    </g>\n    <g id=\"xtick_5\">\n     <g id=\"line2d_5\">\n      <g>\n       <use style=\"stroke:#000000;stroke-width:0.8;\" x=\"186.122143\" xlink:href=\"#mdba741b549\" y=\"224.64\"/>\n      </g>\n     </g>\n     <g id=\"text_5\">\n      <!-- 20 -->\n      <defs>\n       <path d=\"M 19.1875 8.296875 \nL 53.609375 8.296875 \nL 53.609375 0 \nL 7.328125 0 \nL 7.328125 8.296875 \nQ 12.9375 14.109375 22.625 23.890625 \nQ 32.328125 33.6875 34.8125 36.53125 \nQ 39.546875 41.84375 41.421875 45.53125 \nQ 43.3125 49.21875 43.3125 52.78125 \nQ 43.3125 58.59375 39.234375 62.25 \nQ 35.15625 65.921875 28.609375 65.921875 \nQ 23.96875 65.921875 18.8125 64.3125 \nQ 13.671875 62.703125 7.8125 59.421875 \nL 7.8125 69.390625 \nQ 13.765625 71.78125 18.9375 73 \nQ 24.125 74.21875 28.421875 74.21875 \nQ 39.75 74.21875 46.484375 68.546875 \nQ 53.21875 62.890625 53.21875 53.421875 \nQ 53.21875 48.921875 51.53125 44.890625 \nQ 49.859375 40.875 45.40625 35.40625 \nQ 44.1875 33.984375 37.640625 27.21875 \nQ 31.109375 20.453125 19.1875 8.296875 \nz\n\" id=\"DejaVuSans-50\"/>\n      </defs>\n      <g transform=\"translate(179.759643 239.238437)scale(0.1 -0.1)\">\n       <use xlink:href=\"#DejaVuSans-50\"/>\n       <use x=\"63.623047\" xlink:href=\"#DejaVuSans-48\"/>\n      </g>\n     </g>\n    </g>\n    <g id=\"xtick_6\">\n     <g id=\"line2d_6\">\n      <g>\n       <use style=\"stroke:#000000;stroke-width:0.8;\" x=\"224.950714\" xlink:href=\"#mdba741b549\" y=\"224.64\"/>\n      </g>\n     </g>\n     <g id=\"text_6\">\n      <!-- 25 -->\n      <g transform=\"translate(218.588214 239.238437)scale(0.1 -0.1)\">\n       <use xlink:href=\"#DejaVuSans-50\"/>\n       <use x=\"63.623047\" xlink:href=\"#DejaVuSans-53\"/>\n      </g>\n     </g>\n    </g>\n   </g>\n   <g id=\"matplotlib.axis_2\">\n    <g id=\"ytick_1\">\n     <g id=\"line2d_7\">\n      <defs>\n       <path d=\"M 0 0 \nL -3.5 0 \n\" id=\"m496742454f\" style=\"stroke:#000000;stroke-width:0.8;\"/>\n      </defs>\n      <g>\n       <use style=\"stroke:#000000;stroke-width:0.8;\" x=\"26.925\" xlink:href=\"#m496742454f\" y=\"11.082857\"/>\n      </g>\n     </g>\n     <g id=\"text_7\">\n      <!-- 0 -->\n      <g transform=\"translate(13.5625 14.882076)scale(0.1 -0.1)\">\n       <use xlink:href=\"#DejaVuSans-48\"/>\n      </g>\n     </g>\n    </g>\n    <g id=\"ytick_2\">\n     <g id=\"line2d_8\">\n      <g>\n       <use style=\"stroke:#000000;stroke-width:0.8;\" x=\"26.925\" xlink:href=\"#m496742454f\" y=\"49.911429\"/>\n      </g>\n     </g>\n     <g id=\"text_8\">\n      <!-- 5 -->\n      <g transform=\"translate(13.5625 53.710647)scale(0.1 -0.1)\">\n       <use xlink:href=\"#DejaVuSans-53\"/>\n      </g>\n     </g>\n    </g>\n    <g id=\"ytick_3\">\n     <g id=\"line2d_9\">\n      <g>\n       <use style=\"stroke:#000000;stroke-width:0.8;\" x=\"26.925\" xlink:href=\"#m496742454f\" y=\"88.74\"/>\n      </g>\n     </g>\n     <g id=\"text_9\">\n      <!-- 10 -->\n      <g transform=\"translate(7.2 92.539219)scale(0.1 -0.1)\">\n       <use xlink:href=\"#DejaVuSans-49\"/>\n       <use x=\"63.623047\" xlink:href=\"#DejaVuSans-48\"/>\n      </g>\n     </g>\n    </g>\n    <g id=\"ytick_4\">\n     <g id=\"line2d_10\">\n      <g>\n       <use style=\"stroke:#000000;stroke-width:0.8;\" x=\"26.925\" xlink:href=\"#m496742454f\" y=\"127.568571\"/>\n      </g>\n     </g>\n     <g id=\"text_10\">\n      <!-- 15 -->\n      <g transform=\"translate(7.2 131.36779)scale(0.1 -0.1)\">\n       <use xlink:href=\"#DejaVuSans-49\"/>\n       <use x=\"63.623047\" xlink:href=\"#DejaVuSans-53\"/>\n      </g>\n     </g>\n    </g>\n    <g id=\"ytick_5\">\n     <g id=\"line2d_11\">\n      <g>\n       <use style=\"stroke:#000000;stroke-width:0.8;\" x=\"26.925\" xlink:href=\"#m496742454f\" y=\"166.397143\"/>\n      </g>\n     </g>\n     <g id=\"text_11\">\n      <!-- 20 -->\n      <g transform=\"translate(7.2 170.196362)scale(0.1 -0.1)\">\n       <use xlink:href=\"#DejaVuSans-50\"/>\n       <use x=\"63.623047\" xlink:href=\"#DejaVuSans-48\"/>\n      </g>\n     </g>\n    </g>\n    <g id=\"ytick_6\">\n     <g id=\"line2d_12\">\n      <g>\n       <use style=\"stroke:#000000;stroke-width:0.8;\" x=\"26.925\" xlink:href=\"#m496742454f\" y=\"205.225714\"/>\n      </g>\n     </g>\n     <g id=\"text_12\">\n      <!-- 25 -->\n      <g transform=\"translate(7.2 209.024933)scale(0.1 -0.1)\">\n       <use xlink:href=\"#DejaVuSans-50\"/>\n       <use x=\"63.623047\" xlink:href=\"#DejaVuSans-53\"/>\n      </g>\n     </g>\n    </g>\n   </g>\n   <g id=\"patch_3\">\n    <path d=\"M 26.925 224.64 \nL 26.925 7.2 \n\" style=\"fill:none;stroke:#000000;stroke-linecap:square;stroke-linejoin:miter;stroke-width:0.8;\"/>\n   </g>\n   <g id=\"patch_4\">\n    <path d=\"M 244.365 224.64 \nL 244.365 7.2 \n\" style=\"fill:none;stroke:#000000;stroke-linecap:square;stroke-linejoin:miter;stroke-width:0.8;\"/>\n   </g>\n   <g id=\"patch_5\">\n    <path d=\"M 26.925 224.64 \nL 244.365 224.64 \n\" style=\"fill:none;stroke:#000000;stroke-linecap:square;stroke-linejoin:miter;stroke-width:0.8;\"/>\n   </g>\n   <g id=\"patch_6\">\n    <path d=\"M 26.925 7.2 \nL 244.365 7.2 \n\" style=\"fill:none;stroke:#000000;stroke-linecap:square;stroke-linejoin:miter;stroke-width:0.8;\"/>\n   </g>\n  </g>\n </g>\n <defs>\n  <clipPath id=\"p222d2a8cc2\">\n   <rect height=\"217.44\" width=\"217.44\" x=\"26.925\" y=\"7.2\"/>\n  </clipPath>\n </defs>\n</svg>\n",
      "image/png": "[encoded data removed]"
     },
     "metadata": {
      "needs_background": "light"
     }
    }
   ],
   "source": [
    "input_shape = (100,)\n",
    "output_shape = (28, 28, 1)\n",
    "\n",
    "dcgan = DCGAN(input_shape=input_shape, name=\"my_dcgan\")\n",
    "\n",
    "generator = dcgan.make_generator(input_shape)\n",
    "\n",
    "noise = tf.random.normal([1, 100])\n",
    "generated_image = generator(noise, training=False)\n",
    "\n",
    "plt.imshow(generated_image[0, :, :, 0], cmap='gray')\n",
    "\n",
    "discriminator = dcgan.make_discriminator(output_shape)\n",
    "decision = discriminator(generated_image)\n",
    "print(decision)\n"
   ]
  },
  {
   "cell_type": "code",
   "execution_count": null,
   "metadata": {},
   "outputs": [],
   "source": []
  }
 ],
 "metadata": {
  "kernelspec": {
   "name": "python374jvsc74a57bd0aee8b7b246df8f9039afb4144a1f6fd8d2ca17a180786b69acc140d282b71a49",
   "display_name": "Python 3.7.4 64-bit"
  },
  "language_info": {
   "codemirror_mode": {
    "name": "ipython",
    "version": 3
   },
   "file_extension": ".py",
   "mimetype": "text/x-python",
   "name": "python",
   "nbconvert_exporter": "python",
   "pygments_lexer": "ipython3",
   "version": "3.7.4"
  }
 },
 "nbformat": 4,
 "nbformat_minor": 5
}